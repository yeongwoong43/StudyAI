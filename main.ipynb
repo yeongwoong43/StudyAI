{
  "nbformat": 4,
  "nbformat_minor": 0,
  "metadata": {
    "colab": {
      "name": "main.ipynb",
<<<<<<< HEAD
      "provenance": []
=======
      "provenance": [],
      "authorship_tag": "ABX9TyOrI880SaO/0mZid3pgy6kp",
      "include_colab_link": true
>>>>>>> eda56450857f4dd3afcf762fe7a247044533ea8e
    },
    "kernelspec": {
      "name": "python3",
      "display_name": "Python 3"
    }
  },
  "cells": [
    {
<<<<<<< HEAD
      "cell_type": "code",
      "metadata": {
        "id": "VuL3p-_bcOJ8",
        "colab_type": "code",
        "colab": {}
      },
      "source": [
        "import numpy as np\n",
        "import pandas as pd\n",
        "import matplotlib.pyplot as plt\n",
        "%matplotlib inline"
      ],
      "execution_count": 25,
      "outputs": []
    },
    {
      "cell_type": "code",
      "metadata": {
        "id": "c0oY2_sGcU7h",
        "colab_type": "code",
        "colab": {}
      },
      "source": [
        "np.random.seed(1)\n",
        "x=np.arange(10)\n",
        "y=np.random.rand(10)"
      ],
      "execution_count": 26,
      "outputs": []
    },
    {
      "cell_type": "code",
      "metadata": {
        "id": "_GqFnoEyftxF",
        "colab_type": "code",
        "colab": {
          "base_uri": "https://localhost:8080/",
          "height": 265
        },
        "outputId": "6b666340-6c83-442a-b97b-de073b165860"
      },
      "source": [
        "plt.plot(x, y)\n",
        "plt.show()"
      ],
      "execution_count": 27,
      "outputs": [
        {
          "output_type": "display_data",
          "data": {
            "image/png": "iVBORw0KGgoAAAANSUhEUgAAAXQAAAD4CAYAAAD8Zh1EAAAABHNCSVQICAgIfAhkiAAAAAlwSFlzAAALEgAACxIB0t1+/AAAADh0RVh0U29mdHdhcmUAbWF0cGxvdGxpYiB2ZXJzaW9uMy4yLjIsIGh0dHA6Ly9tYXRwbG90bGliLm9yZy+WH4yJAAAgAElEQVR4nO3deXxU9b3/8dcn+zYQQsgEskCQTADZExbXWqSKVUGvIgh4r16r1brVWlu7XHuv3W1rtb+q1VrbCkGkqBUrdV+q1YSEsMgWCIFsLEkI2QhZ5/v7IwEjBjKEmTmzfJ6PB49H5szJnA+T5J2T7yrGGJRSSvm/EKsLUEop5R4a6EopFSA00JVSKkBooCulVIDQQFdKqQARZtWFExMTzahRo6y6vFJK+aX169fXGmOG9fWcZYE+atQoCgsLrbq8Ukr5JREpO9lz2uSilFIBQgNdKaUChAa6UkoFCA10pZQKEBroSikVIDTQlVIqQGigK6VUgNBAH6AdBxr5cFeN1WUopdRxGugDYIzhvlWb+ObKjVaXopRSx2mgD8Cmyga27mvk0JF2apvbrC5HKaUADfQByc37bObtzgNNFlailFKfcSnQRWSuiBSLSImIPNDH878VkY09/3aKSL37S/UNDS0dvLp5H3PG2QEoPqiBrpTyDf0uziUiocDjwFeASqBARNYYY7YdO8cYc2+v8+8CpnqgVp/w0oZKWjucfHNOJuvL6tipga6U8hGu3KHPAEqMMaXGmHZgJTD/FOdfDzzvjuJ8jTGG3PxyJqfFMyFlMJl2GzsPNltdllJKAa4FegpQ0etxZc+xLxCRkUAG8O5Jnr9VRApFpLCmxv+G/K3bU0dJdTNLZqYDkGW3sfNAE8YYiytTSin3d4ouAlYbY7r6etIY87QxJscYkzNsWJ/rs/u03PxybFFhXDlpBACOZBtNbZ3sb2i1uDKllHIt0KuAtF6PU3uO9WURAdrcUtvcxj+37OeaaalER4QC3XfooB2jSinf4EqgFwCZIpIhIhF0h/aaE08SkbHAEOAT95boG1avr6SjyxxvbgFw2OMAHbqolPIN/Qa6MaYTuBN4A9gOrDLGbBWRh0RkXq9TFwErTQA2KDudhhX55czISCCz564cID4mgiRbpHaMKqV8gkt7ihpj1gJrTzj24AmP/9d9ZfmWj0pqKa9r4b5LHF94LivZpkMXlVI+QWeKuiA3v4yE2AjmTkj+wnMOu41d1U10OQPuDxOllJ/RQO/HgYZW3t5ezYKcVCLDQr/wfJbdRmuHk4q6FguqU0qpz2ig9+OFggq6nIbFM9L7fN6RrCNdlFK+QQP9FDq7nKwsKOeCzERGDo3t85zMpO6RLrs00JVSFtNAP4X3imvY39DKkpkjT3pObGQYqUOiKdaRLkopi2mgn0Jufhn2QZFcPC7plOcdWwJAKaWspIF+EhV1LXyws4aF09MJDz312+RItlFa20xHl9NL1Sml1BdpoJ/E8+vKEWDR9LR+z82y2+joMuytPeL5wpRS6iQ00PvQ3ulkVWEFs8faGREf3e/5mT1LAOhIF6WUlTTQ+/DmtgPUNrezZFbfQxVPdNawOEJE13RRSllLA70PuXnlpA6J5sJM15b4jQoPZVRirN6hK6UspYF+gpLqZj4pPcT1M9IJDRGXPy9Ldy9SSllMA/0Ez68rJyxEuC6n/87Q3hx2G2WHjtDa0efeHkop5XEa6L20dnSxen0ll05IZpgt8rQ+12G34TTdd/hKKWUFDfReXtu8n4ajHZ/bxMJVWck9m11oO7pSyiIa6L3k5pcxOjGWc0YPPe3PHTk0lojQEO0YVUpZRgO9x7Z9jRSV17N4ZjoirneGHhMeGsLoYbE6dFEpZRkN9B4r1pURERbCtdmpA36N7t2LtA1dKWUNlwJdROaKSLGIlIjIAyc55zoR2SYiW0VkhXvL9Kzmtk5eLqriiknDiY+JGPDrOOw2quqP0tTa4cbqlFLKNf0GuoiEAo8DlwHjgetFZPwJ52QC3wPOM8acDXzTA7V6zJqN+zjS3nXKZXJd4ejZQHqXjnRRSlnAlTv0GUCJMabUGNMOrATmn3DOLcDjxpjDAMaYaveW6TnGGHLzyxibbGNaevwZvVZWT6BrO7pSygquBHoKUNHrcWXPsd4cgENE/i0ieSIyt68XEpFbRaRQRApramoGVrGbbapsYOu+RpbMGjmgztDeUodEEx0eqiNdlFKWcFenaBiQCVwEXA/8UUS+cLtrjHnaGJNjjMkZNsy1dVI8LTevjJiIUK6aMuKMXyskRHDY49ilHaNKKQu4EuhVQO958Kk9x3qrBNYYYzqMMXuAnXQHvE9raOng1c37mD8lBVtUuFteM9Nu0zt0pZQlXAn0AiBTRDJEJAJYBKw54Zy/0313jogk0t0EU+rGOj3ipQ2VtHY4BzQz9GSy7DZqmtqoO9LuttdUSilX9BvoxphO4E7gDWA7sMoYs1VEHhKReT2nvQEcEpFtwHvA/caYQ54q2h26O0PLmZwWz4SUwW57XUdyT8eo3qUrpbwszJWTjDFrgbUnHHuw18cG+FbPP7+wbk8dJdXNPHztJLe+7vGRLgebmDWAJQSUUmqggnamaG5+ObaoMK6cdOadob3ZB0UyKCpM79CVUl4XlIFe29zGP7fs55ppqURHhLr1tUUEh93GzgM60kUp5V1BGeir11fS0WXc2hnamyO5e6RLd0uUUkp5R9AFutNpWJFfzoyMBDJ72rvdLctuo+FoB9VNbR55faWU6kvQBfpHJbWU17V47O4cPlvTpViXAFBKeVHQBXpufhkJsRHMnZDssWs47Lp7kVLK+4Iq0A80tPL29moW5KQSGebeztDehsZFkhgXoYGulPKqoAr0Fwoq6HIaFs/wXHPLMQ67jWJd00Up5UVBE+idXU5WFpRzQWYiI4fGevx6DruNXQebcDp1pItSyjuCJtDfK65hf0PrGW9i4aqsZBst7V1U1R/1yvWUUipoAj03vwz7oEguHpfkles57Lqmi1Lq8460dbL0mXwK9tZ55PWDItAr6lr4YGcNC6enEx7qnf9yZs9IF11KVykF3c2+d64o4pPSQzS3dXrkGkER6M+vK0eARdPT+j3XXQZFhTNicJRuR6eUwhjDj9Zs5b3iGn48fwJfzvJMS0HAB3p7p5NVhRXMHmtnRHy0V6/dvQSAjnRRKtj98cNScvPLue1LZ7HYg5MaAz7Q39x2gNrmdpbM8vxQxRNl2W3srm6ms8vp9WsrpXzDa5v387O1O7h80nC+c2mWR68V8IGem1dO6pBoLsz0/h6mDruN9i4nZXUtXr+2Usp668vquHfVRrJHDuE3CyYTEnJmG9H3J6ADvaS6mU9KD3H9jHRCPfxG9uX4SBdtR1cq6OytPcItz61nxOAo/vifOUSFe252+jEBHejPrysnLES4Lsd7naG9jUmKQ0RHuigVbA4faeemvxRgjOHPN80gITbCK9d1aQs6f9Ta0cXq9ZVcOiGZYbZIS2qIjghlZEKMjkVXKoi0dnRx67JCquqPsuJrM8lI9PzM9GNcukMXkbkiUiwiJSLyQB/P3ygiNSKyseff19xf6ul5bfN+Go52eHSZXFc47DZdRlepIOF0Gu5fvZmCvYd55LrJ5IxK8Or1+w10EQkFHgcuA8YD14vI+D5OfcEYM6Xn3zNurvO05eaXMToxlnMs3qg5K9nG3kMttHV2WVqHUsrzfv1mMa9u2scDl43lCjfvV+wKV+7QZwAlxphSY0w7sBKY79myzsy2fY0UldezeGY6It7vDO0t026jy2korTliaR1KKc96fl05T7y/m8Uz0/n6haMtqcGVQE8BKno9ruw5dqJrRGSziKwWkT57IUXkVhEpFJHCmpqaAZTrmhXryogIC+Ha7FSPXcNVWbqmi1IB74OdNfzw71u4KGsYD80727IbSXeNcnkVGGWMmQS8Bfy1r5OMMU8bY3KMMTnDhnlmXHhzWycvF1VxxaThxMd4p2f5VDISYwkLEW1HVypAbdvXyB25RWTZbfx+8TTCvLReVF9cuXIV0PuOO7Xn2HHGmEPGmGM7Ij8DZLunvNO3ZuM+jrR3eW2Z3P5EhIUwelis3qErFYD2Nxzlv/9SgC0qjGdvnE5cpLUDB10J9AIgU0QyRCQCWASs6X2CiAzv9XAesN19JbrOGENufhljk21MS4+3ooQ+Oew2duqaLkoFlKbWDm76cwHNbZ08e+N0kgdHWV1S/4FujOkE7gTeoDuoVxljtorIQyIyr+e0u0Vkq4hsAu4GbvRUwaeyqbKBrfsaWTJrpOWdob057DbK61poaffMkplKKe/q6HJyx4oN7Kpu5okl0xg3fJDVJQEuTiwyxqwF1p5w7MFeH38P+J57Szt9uXllxESEctUU7w8XOpVjSwDsOtjM5DTf+ctBKXX6jDE8+MoW/rWzhl/8x0QudHh/naiTCZip/w0tHby6eR/zp6Rgiwq3upzPyUruDnRdAkAp//eHD0p5fl0Fd3z5LBZ5YcP50xEwgf7ShkpaO5yWzwztS3pCDJFhIbpIl1J+7tVN+/jl6zuYN3kE933Fs0vhDkRABHp3Z2g5k9PimZAy2OpyviA0RBiTFMfOau0YVcpfFeyt476/bWLGqAR+tWCSx5fCHYiACPR1e+ooqW72ybvzY7LsNr1DV8pP7ak9wi3PFZIaH81TN2QTGeb5pXAHIiACPTe/HFtUGFdasHaCqxzJNg40ttLQ0mF1KUqp03CouY0b/7yOEBH+fNN0hnhpKdyB8PtAr21u459b9nPNtFSiI3zztyb0WgKgWu/SlfIXrR1d3PJcIQcaWvnjf+Ywcqj3lsIdCL8P9NXrK+noMj7d3ALdd+iga7oo5S+cTsN9qzaxoaKeRxdOIXvkEKtL6pdfB7rTaViRX86MjAQye+6AfdWIwVHERYZpO7pSfuKXb+zgtU/38/3LxnHZxOH9f4IP8OtA/6iklvK6Fp+/OwcQETLtcToWXSk/sDyvjKc+KOWGWSP52gUZVpfjMr8O9Nz8MhJiI5g7IdnqUlyS1bN7kTHG6lKUUifx3o5qHnxlC7PHJvGjK8f71DIi/fHbQD/Q0Mrb26tZkJPqs0OITuSw2zjc0kFtc7vVpSil+rClqoE7VhQxbvgg/t/1Uy1dCncg/KvaXl4oqKDLaVjsY1NvT+XYEgC7tNlFKZ+zr/4oN/+1gPjocJ69cTqxFi+FOxB+GeidXU5WFpRzQWaizw8j6i3THgfomi5K+Zqm1g7++y8FtLR18exN07EPsn4p3IHwy0B/r7iG/Q2tPrOJhauGxUUyJCZchy4q5UM6upx8I7eIkupmnlyazdhk31gKdyD8728KujtD7YMiuXhcktWlnBYRwdHTMaqUsp4xhh++vIUPd9Xy8DWTOD8z0eqSzojf3aFX1LXwwc4aFk5PJ9zPOiygux1918FmHemilA944v3dvFBYwV2zx3Dd9D73tvcrfpeIqworEGCRn775DruNprZO9je0Wl2KUkHtlY1V/OqNYq6emsK3vuKwuhy38Lsml9svOovpoxIYER9tdSkDcmz3ouKDTX77f1DK3+WXHuL+v21mZkYCv7hmol+NNT8Vl+7QRWSuiBSLSImIPHCK864RESMiOe4r8fNiIsJ8asun0+XoGemiSwAoZY3dNc3cumw9aQnRPH1Djt/MY3FFv4EuIqHA48BlwHjgehEZ38d5NuAeIN/dRQaS+JgI7IMideiiUhaobW7jpj8XEB4q/OWmGQyO8a3tKs+UK3foM4ASY0ypMaYdWAnM7+O8HwO/BLRxuB8Ou02HLirlZa0dXXztr4VUN7XyzH9NJy0hxuqS3M6VQE8BKno9ruw5dpyITAPSjDGvneqFRORWESkUkcKamprTLjZQZNltlFQ30+XUkS5KecOminpuea6QTZX1PLpwKlPS4q0uySPOuFNUREKAR4Ab+zvXGPM08DRATk5O0KaZw26jtcNJRV0LoxL9Z6arUv6ktaOLNZv2sTyvjM2VDcRGhPKTqyb4zWJ+A+FKoFcBvccIpvYcO8YGTADe7+kpTgbWiMg8Y0yhuwoNJMc2uyg+2KSBrpSb7a09Qm5+GasKK2k42kFmUhwPzT+bq6emYIsKrDbzE7kS6AVApohk0B3ki4DFx540xjQAx6dXicj7wLc1zE8uM+mzkS6Xnh24dwtKeUuX0/DejmqW5ZXxwc4awkKES89O5oZzRjIzIyFghiX2p99AN8Z0isidwBtAKPCsMWariDwEFBpj1ni6yEATGxlGWkK0jnRR6gwdam7jhcIKcvPKqao/in1QJPfOcbBoRprfLrB1JlxqQzfGrAXWnnDswZOce9GZlxX4suzdSwAopU6PMYai8nqW55Xx2ub9tHc5OWf0UH54+TjmjLf75ZIg7uJ3M0UDRabdxvvFNbR3OokIC95vQKVc1dLeyZqN+1iWV8bWfY3YIsNYPDOdpbPSGZPk23sKe4sGukWy7DY6nYa9h44cXw5AKfVFpTXNLMsrY/X6SppaOxmbbOOnV0/gqikpfrkJhSfpu2GR42u6HGjSQFfqBJ1dTt7ZUc2yT8r4qKSW8FDhsgnDueGckeSMHBI0nZynSwPdIqOHxRIaIjpjVKleapraWLmunBXrytnf0MqIwVF8+xIHC6enM8wWaXV5Pk8D3SJR4aGMGhqjga6CnjGGgr2HWZZXxutb9tPRZbggM5H/m3c2s8cm+d1GzVbSQLeQw25jh666qILUkbZOXt5QxfK8MnYcaMIWFcYNs0axdFY6o4fFWV2eX9JAt5DDbuP1rQdo7egiKjxwlvBU6lR2HWxieV4ZLxZV0dzWydkjBvHLayZy5eQRxERoJJ0JffcslJVswxgoqW5mQspgq8tRymM6upy8te0gyz4p45PSQ0SEhnD5pO5Ozqlp8drJ6SYa6BbqPdJFA10FqhfXV/LwGzs42NhGSnw03507lutyUhkap52c7qaBbqFRQ2OICA1hZ7W2o6vA9PHuWu5fvYkpafH87OqJXJSVRGiI3o17iga6hcJCQxg9LFa3o1MB6UBDK3c/v4GMxFieu3kmcToJyON0PJDFspJt7NQ1XVSA6ehycseKIlrau/jD0mwNcy/RQLeYw26jqv4oTa0dVpeilNv8fO0O1pcd5hfXTCJTZ0J7jQa6xbJ6vtn1Ll0Fin9s3sez/97DjeeOYt7kEVaXE1Q00C2W1bN70S6dMaoCQEl1E99dvZlp6fF8/6vjrC4n6GigWywlPpro8FDd7EL5vSNtndy2vIio8FAeXzJNl4W2gPZUWCwkRHDY43RNF+XXjDE88NKn3Uvd3jyT4YOjrS4pKOmvUB/gsNsoPqBt6Mp//fXjvby6aR/3XZLFeWMS+/8E5REuBbqIzBWRYhEpEZEH+nj+NhH5VEQ2ishHIjLe/aUGrqxkG7XNbdQdabe6FKVO2/qyw/zkte3MGZfE7V86y+pyglq/gS4iocDjwGXAeOD6PgJ7hTFmojFmCvAw8IjbKw1gjuMjXbTZRfmX2uY27sgtYkR8NL9ZMIUQnQVqKVfu0GcAJcaYUmNMO7ASmN/7BGNMY6+HsYBxX4mBz98D3ek0/PDvn/LejmqrS1Fe1OU03P38Bg63tPPk0mkMjgm3uqSg50qgpwAVvR5X9hz7HBG5Q0R2032Hfrd7ygsO9kGRDIoKo9hPlwD4164alueVc8eKIr/9P6jT98hbxXy8+xA/vmoCZ4/QxeV8gds6RY0xjxtjzgK+C/ywr3NE5FYRKRSRwpqaGndd2u+JSM8SAP4Zhrn55QyNjSA2MoyvLyuk4ajOeg10b287yOPv7WbR9DSuy0mzuhzVw5VArwJ6f8VSe46dzErgqr6eMMY8bYzJMcbkDBs2zPUqg0D3SJcmjPGv1qp99Ud5Z/tBFk5P48kl06g8fJR7X9iI0+lf/w/luvJDLdy7aiMTUgbxv/POtroc1YsrgV4AZIpIhohEAIuANb1PEJHMXg8vB3a5r8TgkJVso7G1k+qmNqtLOS0rCyowwPUz0skZlcCPrhzPuzuqeewd/RYIRK0dXdy2fD0CPLkkW3fa8jH9TiwyxnSKyJ3AG0Ao8KwxZquIPAQUGmPWAHeKyBygAzgM/Jcniw5EmUmfbXZhHxRlcTWu6ehysnJdORc5hpGWEAPA0lkj2VjRwGPv7GJiymDmjLdbXKVypwdf2cK2/Y08e2PO8a+58h0uzRQ1xqwF1p5w7MFeH9/j5rqCjsPevSnuzoNNXOjwj+aod7YfpLqpjZ/NHHn8mIjw06snUHywkXtf2Mgrd56nG/4GiBcKyllVWMlds8cwe6z+ovZFOlPURwyNiyQxLtKvRonk5pczYnAUXx6b9LnjUeGh/GFpNuFhIXx92XqOtHVaVKFyly1VDfzPK1s5f0wi35zjsLocdRIa6D4kKzmOndX+sQTAntojfLirlutnpPe5pVjqkBj+3/VT2V3TzP2rN/ldZ6/6TH1LO7ctX8/Q2AgeWzRFt5DzYRroPsRht7HrYJNfjBB5fl05oSHCwuknH7J23phEvjt3LGs/PcBT/yr1YnXKXZxOw7dWbeJgYyuPL5mmGzv7OA10H+Kw22hp76Kq/qjVpZxSa0cXfyus4JLxdpL66cC99cLRXD5pOA+/voMPd+ncA3/zxPslvLujmv+5YjzT0odYXY7qhwa6Dzm2BICvt6P/c8t+Drd0sHTWyH7PFREevmYSmUk27n5+AxV1LV6oULnDh7tq+M1bO5k/ZQQ3uPC1VtbTQPchx0a6+PpmF7l55WQkxnLO6KEunR8bGcYfbsim02m4bfl6Wju6PFyhOlP76o9yz8qNZCbF8fP/mIiItpv7Aw10H2KLCiclPtqnt6PbcaCRwrLDLJ6Rflor62UkxvLowils3dfI91/+VDtJfVh7p5Nv5BbR1tHFk0uziYnQfXD8hQa6j3HY4yj24Q2jc/PKiQgL4drs1NP+3IvH2fnmnExeKqriuU/KPFCdcoefvraNjRX1/GrBZM7SOQR+RQPdxzjsNnZXN9PZ5bS6lC840tbJyxuquGLicIbERgzoNe6encmccUn8+B/bKNhb5+YK1Zl6ZWMVf/2kjK+dn8FXJw63uhx1mjTQfYzDbqO9y8neQ77Xebhm0z6a2zpZcgYdZCEhwiMLp5CWEMM3cos42NjqxgrVmdh5sIkHXvyU6aOG8N3LxlpdjhoADXQfk5Xsm5tdGGNYnlfG2GQb09Ljz+i1BkWF89QN2Rxp6+T25etp7/S9v0aCTVNrB7ctW09sZBi/XzyN8FCNBn+kXzUfMyYpDhHfC/RNlQ1s3dfIklkj3TLiwWG38atrJ1NUXs//vbrVDRWqgTLG8N0XN1NW18LvF0/1m8Xh1BdpoPuYqPBQRg2N9blAX55XRmxEKFdP/cJmVQN2+aThfP1Lo8nNL2dVQUX/n6A84k8f7WHtpwf4zqVZzHJxKKryTRroPigzKc6nJhc1tHTw6qZ9zJ+aQlyke4ew3X9JFuePSeSHr2xhc2W9W19b9W/dnjp+/s8dXDLezq0Xjra6HHWGNNB9UFayjb2HWnxmAs6LRZW0dTpZMjPd7a8dFhrC766fyrC4SG5btp7aZv/a4MOfVTe1cueKItKGRPPr6ybr5KEAoIHugxx2G11OQ2nNEatLwRhDbn4ZU9PjPbYRcEJsBE/dkM2hI+3cuaLIJ4dsBprOLid3rdhAY2sHTy7NZlBUuNUlKTfQQPdBx0a67Kq2vtklr7SO3TVHWDLTs2t5TEgZzM+unkheaR2/fH2HR6+l4FdvFpO/p46fXT2RccMHWV2OchOd0+uDRg2NJTxUfKIdPTe/jMHR4VwxyfOTTK7JTmVzZT1//HAPE1PjmTd5hMevGYxe33KApz4oZcnMdP5j2unP+FW+S+/QfVBEWAgZidaPdKlpauONrQe4NjvVa5sB/+Dy8eSMHMJ3V29m+/5Gr1wzmOypPcL9f9vEpNTBPHjleKvLUW7mUqCLyFwRKRaREhF5oI/nvyUi20Rks4i8IyK61uYZcthtlq+6uKqwgo4uw2IPdIaeTERYCE8snYYtKoyvL1tPQ0uH164d6I62d3H78vWEhgpPLJlGZJh3fkkr7+k30EUkFHgcuAwYD1wvIif+at8A5BhjJgGrgYfdXWiwybLbqKg7atl+nF1Ow4r8cs49a6jXF2hKskXx5NJs9jcc5Z4XNvjFDk6+zhjDD17+lOKDTTy6cAqpQ2KsLkl5gCt36DOAEmNMqTGmHVgJzO99gjHmPWPMscVH8gBtmDtDjp6O0RKL9hj9184aquqPerwz9GSyRw7hR1eezfvFNTz69k5LaggkK9aV89KGKu65OJOLspL6/wTll1wJ9BSg9zS+yp5jJ3Mz8M++nhCRW0WkUEQKa2p0O7JTyTq2e5FFzS65+WUkxkXylfF2S64PsGRmOguyU/nduyW8ufWAZXX4u00V9fzfmm18yTGMu2dnWl2O8iC3doqKyFIgB/hVX88bY542xuQYY3KGDRvmzksHnLSEGCLDQthpwUiXqvqjvLujmkXT04gIs67fXET48VUTmJQ6mG+t2sTuGt9dJ95XHT7Szjdyixhmi+TRhVNOa1MS5X9c+WmtAnpv7Z7ac+xzRGQO8ANgnjFGp/udodAQIdMeZ8kd+sp15Rhg0Yy0fs/1tKjwUJ5cmk1EWAhfX7aeZov6FPxRl9NwzwsbqWlq44kl0wa8hr3yH64EegGQKSIZIhIBLALW9D5BRKYCT9Ed5tXuLzM4Oew2rw9d7OhysrKggtlZST7TcZYSH83vF0+ltKaZ+/+2Sbevc0FbZxc/ePlT/rWzhh/NG8/ktDNb8lj5h34D3RjTCdwJvAFsB1YZY7aKyEMiMq/ntF8BccDfRGSjiKw5ycup05Blt3Gwsc2rQ/fe2naQmqY2lszy3lBFV5x7ViLfu2wc/9xygCc/2G11OT6toq6Fa5/8hJUFFXzjorNYPMO3vpbKc1yaKWqMWQusPeHYg70+nuPmuhSfjXTZWd3E9FEJXrlmbn4ZKfHRfMnheyMhvnZBBpurGvj1G8VMGDGYCx3aD3Oit7Yd5L5VGzHAH/8zx9JObeV9OlPUhzmOjZ6LzO8AAA7QSURBVHTxUsdoaU0z/y45xOKZ6YT6YOeZiPDLaybisNu4e+UGKup8b5s+q3R0Ofn52u3c8lwh6UNjeO2uCzTMg5AGug8bMTiKuMgwr7Wjr8gvJyxEWJDju9MIYiLCeOqGbJxOw9eXredou28sMWylAw2tLP5jHk/9q3t9ltW3nUv6UN/o/1DepYHuw0QEh907m120dnSxuqiSS89OJsnm21uQjRway2OLprL9QCPff/nToO4k/XdJLZf/7kO27mvksUVT+OnVE7227o7yPRroPi4ruXuki6dD67XN+6lv6fC5ztCT+fLYJO6d4+DlDVX85eO9VpfjdU6n4Xfv7GLpn/JJiI1gzZ3nMX+K+7YHVP5JA93HOew2Drd0UNvc7tHr5OaXMToxlnP8aE/JO788hjnj7Pz0te3klx6yuhyvqTvSzo1/KeCRt3Zy1ZQUXrnzPMYk2awuS/kADXQfd6xj1JPt6Nv2NVJUXs/imel+tQ1ZSIjwyMLJpCfEcMeKIg40tFpdksetLzvM5b/7kLzSQ/zs6ok8ct1kYiJ0WwPVTQPdx3ljpEtufhmRYSFcm+27naEnMygqnKduyOZoexe3LV9PW2dgdpIaY3jmw1IWPvUJYaHCS7ef63e/gJXnaaD7uMS4CBJiIzx2h97c1snfN1RxxaQRxMf459TwTLuNXy+YzMaKev53zTary3G7xtYObl9exE9e287ssUn8464LmJDimf1dlX/Tv9V83LGRLp4K9L9vqOJIexdL/aQz9GQumzic2y86iyff383e2iPcfH4Gs8cm+f1iVFv3NfCN3CIqDx/lB18dx9cuyNC7cnVSGuh+IMtu48WiKowxbv1hNsaQm1/O+OGDmBIAa318+5IsEmIiePbfe/jac4WMTozlpvNGcU12qt+1MxtjeKGgggfXbCUhJoIXbp1FjpdmCyv/pU0ufiDTbqO5rZN9bu7021BRz/b9jSyZFRhtsaEhwi0XjuZf3/kyv7t+KrbocP7nla2c8/N3+cU/d7C/4ajVJbqkpb2T+/62iQde+pSZGQm8dvf5GubKJf512xKkso6t6XKgiZT4aLe97vK8MuIiwwJu/HJ4aAjzJo/gyknDKSo/zJ8+2sPT/9rNMx+W8tWJw7n5/AyfXX2wpLqZb+SuZ1d1M9+ck8ldszN9chkG5Zs00P2AI+mz3Yu+PNY9i2bVt7Tzj837uS4nlbjIwPw2EBGyRyaQPTKBiroW/vrxXlYWVLBm0z5yRg7h5vMzuOTsZJ8JzDWb9vG9FzcTGR7Kc/89gwsydfExdXoC8yc5wAyOCSd5UJRbO0ZXr6+kvdNp2Z6h3paWEMMPrxjPPXMyWVVYyV8+3sPtuUWkDonmxnNHsXB6GraocEtqa+vs4if/2M6yvDKyRw7h94unMnyw+/4SU8FDA91PZLpxpIsxhhX55WSPHMK44YPc8pr+whYVzs3nZ3DjuaN4a9sB/vTRHn7y2nYefXsX1+WkcdN5o0hL8N7CVhV1LdyxoojNlQ3cckEG35k7lvBQ7dpSA6OB7iey7DaW5ZXR5TRn3ETwye5DlNYe4ZHZY9xUnf8JDRHmThjO3AnD2VxZz58+2sNzn+zlLx/v4ZLxydx8QQY5I4d4tLP4ne0H+daqTTiN4akbsrn07GSPXUsFBw10P+FIttHW6aS8roWMxNgzeq3l+WXEx4Tz1YnD3VSdf5uUGs9ji6byvcvG8ddP9rIiv5zXtx5gUupgbj4/g69OHO7Wu+bOLie/fnMnf/hgN2ePGMQTS6YxcuiZfU2VAh226Dey3LQEQHVjK29uPciC7FRdZvUEyYOj+O7csXzyvdn8+KoJNLd2cs/KjVzwy/d44v0S6lvOfIG06sZWFj+Tzx8+2M3imem8ePu5GubKbVwKdBGZKyLFIlIiIg/08fyFIlIkIp0icq37y1SZ9jgAdp1hO/qqwgo6nYbFQdIZOhAxEWHcMGskb3/rSzx7Yw5nJcXy8OvFnPPzd/mfv2+htKZ5QK/7cUktX/3dh3xa2cBvF07mZ7p2uXKzfptcRCQUeBz4ClAJFIjIGmNM70UzyoEbgW97okjVHTJpCdEUn0GgdzkNz6+r4PwxiWfcbBMMQkKE2WPtzB5rZ/v+Rp79aA8vFFSwLK+Mi8cmcfP5GZxz1tB+29mdTsPj75Xw27d3kpEYy4pbZh1fdE0pd3KlDX0GUGKMKQUQkZXAfOB4oBtj9vY85/RAjapHlt12RiNd3i+upqr+KD+8fJwbqwoO44YP4lcLJvOduWNZnlfG8rwyFj+Tz9hkGzefn8G8KSOIDPvi3XbdkXbufWEjH+ysYf6UEfzs6onEBui4f2U9V5pcUoCKXo8re44pL3PYbZTWHKG9c2C/N3Pzy0myRTJHNw8esGG2SO79ioN/PzCbh6+ZhDFw/+rNnPeL93js7V3UNrcdP7eo/DBX/O5DPtl9iJ9cNYFHF07RMFce5dXvLhG5FbgVID3dv1f3s0JWso1Op2HvoSOn/Sd7RV0L7xVXc9eXx+g4ZzeICg/luulpLMhJ5d8lh/jTR6X89u2dPP5+CVdPSSEtIZpH397F8PgoXrz9XCam6nK3yvNcCfQqIK3X49SeY6fNGPM08DRATk5O8O7sO0C9N7s43UBfWVCOAAtn6C9SdxIRzs9M5PzMREqqm/nzv/fwYlElrR1O5oyz85sFkxkcY80MVBV8XAn0AiBTRDLoDvJFwGKPVqX6NHpYLKEhctrt6O2dTl4oqGT22CS3Lu6lPm9MUhw/vXoi374ki901zWR7eGKSUifq929vY0wncCfwBrAdWGWM2SoiD4nIPAARmS4ilcAC4CkR2erJooNVZFgoo4bGnPZY9De3HaC2uY0ls3SoojcMiY0gZ1SChrnyOpfa0I0xa4G1Jxx7sNfHBXQ3xSgPy0q2sW1f42l9Tm5eOalDorlQV+9TKqBp75ifcdhtlNW10Nrh2mbIJdXNfFJ6iMUz031mmVillGdooPuZLLsNY7qD2hUr8ssJDxUWZKf1f7JSyq9poPuZzNNY06W1o4vV6yu49OxkhtkiPV2aUspiGuh+ZtTQGCJCQ1wa6fLqpn00tnayVDtDlQoKGuh+Jiw0hLOS4lxa0yU3v5yzhsUyM0M3GFYqGGig+6Esexy7Dp66DX1LVQMbK+pZMnOkDp9TKkhooPshR7KNqvqjNLV2nPSc3PxyosJDuGaajiZVKlhooPshR1J3x+jOk9ylN7V28MrGKq6cNEKnnSsVRDTQ/VBW8rFA77sd/e8bqmhp79LOUKWCjAa6H0qJjyYmIrTPoYvGGHLzy5mQMohJusKfUkFFA90PhYQImXYbu6q/GOhF5YfZcaBJO0OVCkIa6H4qyx5H8YEvtqEvzyvHFhnGvMkjLKhKKWUlDXQ/5bDbqG1u41CvHXLqjrTz2qf7uXpaiu6Mo1QQ0kD3U8c2uOg90uXF9ZW0dzpZMlM7Q5UKRhrofurEkS5OpyE3v4zpo4Ycf04pFVw00P1Uki2SwdHhxwP9492H2HuoRe/OlQpiGuh+SkTIstuOB/ryvDKGxIQzd0KyxZUppayige7HMu1xFB9o4mBjK29tP8h1OWlEhYdaXZZSyiIa6H4sK9lGY2snj72ziy6n4foZ6VaXpJSykEuBLiJzRaRYREpE5IE+no8UkRd6ns8XkVHuLlR90bGRLivXlXNBZiKjEmMtrkgpZaV+A11EQoHHgcuA8cD1IjL+hNNuBg4bY8YAvwV+6e5C1RcdC3SnQTtDlVIu3aHPAEqMMaXGmHZgJTD/hHPmA3/t+Xg1cLHovHOPS4iNYJgtEvugSOaMS7K6HKWUxVyZTpgCVPR6XAnMPNk5xphOEWkAhgK1vU8SkVuBWwHS07W91x2+c2kW8TERhIVqd4hSwc6r88ONMU8DTwPk5OQYb147UC3ISbO6BKWUj3Dltq4K6J0aqT3H+jxHRMKAwcAhdxSolFLKNa4EegGQKSIZIhIBLALWnHDOGuC/ej6+FnjXGKN34Eop5UX9Nrn0tInfCbwBhALPGmO2ishDQKExZg3wJ2CZiJQAdXSHvlJKKS9yqQ3dGLMWWHvCsQd7fdwKLHBvaUoppU6HDo1QSqkAoYGulFIBQgNdKaUChAa6UkoFCLFqdKGI1ABlA/z0RE6YhRrk9P34PH0/PqPvxecFwvsx0hgzrK8nLAv0MyEihcaYHKvr8BX6fnyevh+f0ffi8wL9/dAmF6WUChAa6EopFSD8NdCftroAH6Pvx+fp+/EZfS8+L6DfD79sQ1dKKfVF/nqHrpRS6gQa6EopFSD8LtD727A6WIhImoi8JyLbRGSriNxjdU2+QERCRWSDiPzD6lqsJiLxIrJaRHaIyHYROcfqmqwiIvf2/JxsEZHnRSTK6po8wa8C3cUNq4NFJ3CfMWY8MAu4I4jfi97uAbZbXYSPeAx43RgzFphMkL4vIpIC3A3kGGMm0L0MeEAu8e1XgY5rG1YHBWPMfmNMUc/HTXT/sKZYW5W1RCQVuBx4xuparCYig4EL6d6rAGNMuzGm3tqqLBUGRPfsqBYD7LO4Ho/wt0Dva8PqoA4xABEZBUwF8q2txHKPAt8BnFYX4gMygBrgzz1NUM+ISKzVRVnBGFMF/BooB/YDDcaYN62tyjP8LdDVCUQkDngR+KYxptHqeqwiIlcA1caY9VbX4iPCgGnAk8aYqcARICj7nERkCN1/yWcAI4BYEVlqbVWe4W+B7sqG1UFDRMLpDvNcY8xLVtdjsfOAeSKyl+6muNkistzakixVCVQaY4791baa7oAPRnOAPcaYGmNMB/AScK7FNXmEvwW6KxtWBwUREbrbR7cbYx6xuh6rGWO+Z4xJNcaMovv74l1jTEDehbnCGHMAqBCRrJ5DFwPbLCzJSuXALBGJ6fm5uZgA7SB2aU9RX3GyDastLssq5wE3AJ+KyMaeY9/v2f9VKYC7gNyem59S4CaL67GEMSZfRFYDRXSPDttAgC4BoFP/lVIqQPhbk4tSSqmT0EBXSqkAoYGulFIBQgNdKaUChAa6UkoFCA10pZQKEBroSikVIP4/602Z7B7Yd9kAAAAASUVORK5CYII=\n",
            "text/plain": [
              "<Figure size 432x288 with 1 Axes>"
            ]
          },
          "metadata": {
            "tags": [],
            "needs_background": "light"
          }
        }
=======
      "cell_type": "markdown",
      "metadata": {
        "id": "view-in-github",
        "colab_type": "text"
      },
      "source": [
        "<a href=\"https://colab.research.google.com/github/yeongwoong43/StudyAI/blob/master/main.ipynb\" target=\"_parent\"><img src=\"https://colab.research.google.com/assets/colab-badge.svg\" alt=\"Open In Colab\"/></a>"
>>>>>>> eda56450857f4dd3afcf762fe7a247044533ea8e
      ]
    },
    {
      "cell_type": "code",
      "metadata": {
<<<<<<< HEAD
        "id": "qY5Mlu70f2_x",
        "colab_type": "code",
        "colab": {}
      },
      "source": [
        "def f(x):\n",
        "  return (x-2)*x*(x+2)"
      ],
      "execution_count": 28,
      "outputs": []
    },
    {
      "cell_type": "code",
      "metadata": {
        "id": "j3dyqVs-f-uk",
        "colab_type": "code",
        "colab": {
          "base_uri": "https://localhost:8080/",
          "height": 35
        },
        "outputId": "08e691c5-ddbf-426a-a45b-1410b4e43b17"
      },
      "source": [
        "print(f(1))"
      ],
      "execution_count": 29,
      "outputs": [
        {
          "output_type": "stream",
          "text": [
            "-3\n"
          ],
          "name": "stdout"
        }
      ]
    },
    {
      "cell_type": "code",
      "metadata": {
        "id": "plJZW8_BgBAY",
        "colab_type": "code",
        "colab": {
          "base_uri": "https://localhost:8080/",
          "height": 35
        },
        "outputId": "9470a9ec-7570-408c-8985-4814c4088dce"
      },
      "source": [
        "print(f(np.array([1, 2, 3])))"
      ],
      "execution_count": 30,
      "outputs": [
        {
          "output_type": "stream",
          "text": [
            "[-3  0 15]\n"
          ],
          "name": "stdout"
        }
      ]
    },
    {
      "cell_type": "code",
      "metadata": {
        "id": "BUxVKFr5gER8",
        "colab_type": "code",
        "colab": {}
      },
      "source": [
        "x = np.arange(-3, 3.5, 0.5)"
      ],
      "execution_count": 31,
      "outputs": []
    },
    {
      "cell_type": "code",
      "metadata": {
        "id": "P4hBRnQ7gOI1",
        "colab_type": "code",
        "colab": {
          "base_uri": "https://localhost:8080/",
          "height": 35
        },
        "outputId": "388f925e-3ff7-4d81-9618-3daed5cd186d"
      },
      "source": [
        "print(x)"
      ],
      "execution_count": 32,
      "outputs": [
        {
          "output_type": "stream",
          "text": [
            "[-3.  -2.5 -2.  -1.5 -1.  -0.5  0.   0.5  1.   1.5  2.   2.5  3. ]\n"
          ],
          "name": "stdout"
        }
      ]
    },
    {
      "cell_type": "code",
      "metadata": {
        "id": "32gKXZzBgPDV",
        "colab_type": "code",
        "colab": {
          "base_uri": "https://localhost:8080/",
          "height": 283
        },
        "outputId": "d6b651cc-0328-421c-cac3-1cb1ed8ed6a0"
      },
      "source": [
        "plt.plot(x, f(x))"
      ],
      "execution_count": 33,
      "outputs": [
        {
          "output_type": "execute_result",
          "data": {
            "text/plain": [
              "[<matplotlib.lines.Line2D at 0x7f178cd2dd68>]"
            ]
          },
          "metadata": {
            "tags": []
          },
          "execution_count": 33
        },
        {
          "output_type": "display_data",
          "data": {
            "image/png": "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\n",
            "text/plain": [
              "<Figure size 432x288 with 1 Axes>"
            ]
          },
          "metadata": {
            "tags": [],
            "needs_background": "light"
          }
        }
      ]
    },
    {
      "cell_type": "code",
      "metadata": {
        "id": "HtyMxwoRgUlE",
=======
        "id": "VuL3p-_bcOJ8",
>>>>>>> eda56450857f4dd3afcf762fe7a247044533ea8e
        "colab_type": "code",
        "colab": {}
      },
      "source": [
<<<<<<< HEAD
        "plt.show()"
      ],
      "execution_count": 34,
=======
        "import numpy as np\n",
        "import pandas as pd"
      ],
      "execution_count": 2,
>>>>>>> eda56450857f4dd3afcf762fe7a247044533ea8e
      "outputs": []
    },
    {
      "cell_type": "code",
      "metadata": {
<<<<<<< HEAD
        "id": "7xGqyxvGgWB2",
=======
        "id": "c0oY2_sGcU7h",
>>>>>>> eda56450857f4dd3afcf762fe7a247044533ea8e
        "colab_type": "code",
        "colab": {}
      },
      "source": [
        ""
      ],
<<<<<<< HEAD
      "execution_count": 34,
=======
      "execution_count": 2,
>>>>>>> eda56450857f4dd3afcf762fe7a247044533ea8e
      "outputs": []
    }
  ]
}